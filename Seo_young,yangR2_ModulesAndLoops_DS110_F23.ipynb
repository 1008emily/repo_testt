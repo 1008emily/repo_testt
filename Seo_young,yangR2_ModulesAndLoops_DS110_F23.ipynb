{
  "cells": [
    {
      "cell_type": "markdown",
      "metadata": {
        "id": "view-in-github",
        "colab_type": "text"
      },
      "source": [
        "<a href=\"https://colab.research.google.com/github/1008emily/repo_testt/blob/main/Seo_young%2CyangR2_ModulesAndLoops_DS110_F23.ipynb\" target=\"_parent\"><img src=\"https://colab.research.google.com/assets/colab-badge.svg\" alt=\"Open In Colab\"/></a>"
      ]
    },
    {
      "cell_type": "markdown",
      "metadata": {
        "id": "Bv4gY-7zzUHI"
      },
      "source": [
        "1.  Use matplotlib to plot the points:  (2,3), (4, 5), (8,9). Plot them as both points and lines connecting the points."
      ]
    },
    {
      "cell_type": "code",
      "execution_count": 1,
      "metadata": {
        "colab": {
          "base_uri": "https://localhost:8080/",
          "height": 448
        },
        "id": "brwrokHdzCSl",
        "outputId": "b63d3f28-b67f-409a-fdc3-211dfd57f240"
      },
      "outputs": [
        {
          "output_type": "execute_result",
          "data": {
            "text/plain": [
              "[<matplotlib.lines.Line2D at 0x7b040d950640>]"
            ]
          },
          "metadata": {},
          "execution_count": 1
        },
        {
          "output_type": "display_data",
          "data": {
            "text/plain": [
              "<Figure size 640x480 with 1 Axes>"
            ],
            "image/png": "[encoded data removed]"
          },
          "metadata": {}
        }
      ],
      "source": [
        "import matplotlib.pyplot as plt\n",
        "\n",
        "x = [2, 4, 8]\n",
        "y = [3, 5, 9]\n",
        "plt.plot(x,y)"
      ]
    },
    {
      "cell_type": "markdown",
      "metadata": {
        "id": "v6K_7jYKdyKB"
      },
      "source": [
        "2.  Use a loop to find the average of the numbers in mylist."
      ]
    },
    {
      "cell_type": "code",
      "execution_count": 2,
      "metadata": {
        "id": "Vp92PMARefVD",
        "colab": {
          "base_uri": "https://localhost:8080/"
        },
        "outputId": "26d79e3a-a142-4ada-cc96-cceb56d3efe1"
      },
      "outputs": [
        {
          "output_type": "stream",
          "name": "stdout",
          "text": [
            "8.4\n"
          ]
        }
      ],
      "source": [
        "mylist = [3, 4, 5, 10, 20]\n",
        "\n",
        "sum=0\n",
        "for i in mylist:\n",
        "  sum += i\n",
        "print(sum/len(mylist))"
      ]
    },
    {
      "cell_type": "markdown",
      "metadata": {
        "id": "VO9G7bxHbNBI"
      },
      "source": [
        "3. Write a loop that iterates through every string in the list mystrings and builds a new list where all the strings of the original list are in upper case (use the upper() string method).  Hint:  start with an empty list and append() the modified strings as you iterate through."
      ]
    },
    {
      "cell_type": "code",
      "execution_count": 3,
      "metadata": {
        "colab": {
          "base_uri": "https://localhost:8080/"
        },
        "id": "zGKX3Pfpc0-9",
        "outputId": "e7198e06-c1f6-4b85-f38f-26a8012132cf"
      },
      "outputs": [
        {
          "output_type": "stream",
          "name": "stdout",
          "text": [
            "['TO', 'BE', 'OR', 'NOT', 'TO', 'BE']\n"
          ]
        }
      ],
      "source": [
        "mystrings = ['To', 'be', 'or', 'not', 'to', 'be']\n",
        "\n",
        "new_list = []\n",
        "for i in mystrings:\n",
        "  new_list.append(i.upper())\n",
        "\n",
        "print(new_list)"
      ]
    },
    {
      "cell_type": "markdown",
      "metadata": {
        "id": "opDiGIln1PbC"
      },
      "source": [
        "4. Iterate through the following list of tuples to find and print the worst movie (movie with the lowest second element)."
      ]
    },
    {
      "cell_type": "code",
      "execution_count": 7,
      "metadata": {
        "id": "Z1bHvgdI1Xsu",
        "colab": {
          "base_uri": "https://localhost:8080/"
        },
        "outputId": "553b8559-4c36-4f6a-fb48-be802540bd07"
      },
      "outputs": [
        {
          "output_type": "stream",
          "name": "stdout",
          "text": [
            "Worst_movie: Cats\n"
          ]
        }
      ],
      "source": [
        "movies = [('Plan 9 from Outer Space', 2),\n",
        "          ('Cats', 1.5),\n",
        "          ('The Matrix Reloaded', 2),\n",
        "          ('The Fifth Element', 2.5)]\n",
        "\n",
        "worst_movie: 'none'\n",
        "worst_rating = 6\n",
        "\n",
        "for movie, rating in movies:\n",
        "  if rating < worst_rating:\n",
        "    worst_rating = rating\n",
        "    worst_movie = movie\n",
        "\n",
        "print('Worst_movie: ' + worst_movie)"
      ]
    },
    {
      "cell_type": "markdown",
      "metadata": {
        "id": "B3qinv7hz0w5"
      },
      "source": [
        "5. Write a loop that iterates through a list and prints every other item, starting with printing the 0th item.  (Hint:  If the index is divided by 2, the remainder should be 0 to print.)"
      ]
    },
    {
      "cell_type": "code",
      "execution_count": 8,
      "metadata": {
        "id": "4gPr7u3-zzdO",
        "colab": {
          "base_uri": "https://localhost:8080/"
        },
        "outputId": "8d074451-7b0e-4f28-a06e-a964553e3af9"
      },
      "outputs": [
        {
          "output_type": "stream",
          "name": "stdout",
          "text": [
            "ahh\n",
            "bah\n"
          ]
        }
      ],
      "source": [
        "import math\n",
        "\n",
        "x = [\"ahh\",\"boo\",\"bah\",\"haa\"]\n",
        "for i in range(len(x)):\n",
        "  if math.remainder(i,2)==0:\n",
        "    print(x[i])"
      ]
    },
    {
      "cell_type": "markdown",
      "metadata": {
        "id": "-rg1oeoDfofQ"
      },
      "source": [
        "6. Plot the curve $f(x) = x^3$ from x = 0 to x = 5.  Use np.linspace to get a lot of equally spaced x values, and recall that using exponentiation on a vector raises each element to that power."
      ]
    },
    {
      "cell_type": "code",
      "execution_count": 9,
      "metadata": {
        "id": "8LTRGG4ggRzX",
        "colab": {
          "base_uri": "https://localhost:8080/",
          "height": 448
        },
        "outputId": "8a43e668-635b-4e64-aced-c78d9863f7ef"
      },
      "outputs": [
        {
          "output_type": "execute_result",
          "data": {
            "text/plain": [
              "[<matplotlib.lines.Line2D at 0x7b03d9089660>]"
            ]
          },
          "metadata": {},
          "execution_count": 9
        },
        {
          "output_type": "display_data",
          "data": {
            "text/plain": [
              "<Figure size 640x480 with 1 Axes>"
            ],
            "image/png": "[encoded data removed]"
          },
          "metadata": {}
        }
      ],
      "source": [
        "import matplotlib.pyplot as plt\n",
        "import numpy as np\n",
        "import math\n",
        "\n",
        "x= np.linspace(0,5,100)\n",
        "y=x**3\n",
        "plt.plot(x,y)"
      ]
    },
    {
      "cell_type": "markdown",
      "metadata": {
        "id": "5AKq2bbcoAIP"
      },
      "source": [
        "# Tool focus:  The Linter\n",
        "\n",
        "Besides just working, programs are also supposed to be human-readable.  For every programming language, there are a variety of rules that are commonly followed as a matter of convention in order to achieve a more consistent, readable style across programmers.  For example, when writing a=2+2, is it better to write a = 2 + 2?  (Yes.)"
      ]
    },
    {
      "cell_type": "markdown",
      "metadata": {
        "id": "QpMJTFC1oAIP"
      },
      "source": [
        "Rather than spend class time teaching these rules (which are laid out extensively for Python in a document called [PEP8](https://peps.python.org/pep-0008/)), we introduce you to a kind of program that checks your code for style \"violations\" automatically.  These kinds of programs are called \"linters.\"  We don't grade on style much in this course, but if you were to submit code as part of a job application process, you'd want to be sure it obeyed all the rules."
      ]
    },
    {
      "cell_type": "markdown",
      "metadata": {
        "id": "ti6zSW1CoAIP"
      },
      "source": [
        "Run the following to ensure the necessary libraries are present.\n"
      ]
    },
    {
      "cell_type": "code",
      "execution_count": 10,
      "metadata": {
        "colab": {
          "base_uri": "https://localhost:8080/"
        },
        "id": "o59BTKC0oAIP",
        "outputId": "6f9d1305-38e1-494e-b081-229607941cd3"
      },
      "outputs": [
        {
          "output_type": "stream",
          "name": "stdout",
          "text": [
            "Collecting pycodestyle\n",
            "  Downloading pycodestyle-2.11.0-py2.py3-none-any.whl (31 kB)\n",
            "Collecting pycodestyle_magic\n",
            "  Downloading pycodestyle_magic-0.5-py2.py3-none-any.whl (9.5 kB)\n",
            "Installing collected packages: pycodestyle_magic, pycodestyle\n",
            "Successfully installed pycodestyle-2.11.0 pycodestyle_magic-0.5\n",
            "Collecting flake8\n",
            "  Downloading flake8-6.1.0-py2.py3-none-any.whl (58 kB)\n",
            "\u001b[2K     \u001b[90m━━━━━━━━━━━━━━━━━━━━━━━━━━━━━━━━━━━━━━━━\u001b[0m \u001b[32m58.3/58.3 kB\u001b[0m \u001b[31m2.5 MB/s\u001b[0m eta \u001b[36m0:00:00\u001b[0m\n",
            "\u001b[?25hCollecting mccabe<0.8.0,>=0.7.0 (from flake8)\n",
            "  Downloading mccabe-0.7.0-py2.py3-none-any.whl (7.3 kB)\n",
            "Requirement already satisfied: pycodestyle<2.12.0,>=2.11.0 in /usr/local/lib/python3.10/dist-packages (from flake8) (2.11.0)\n",
            "Collecting pyflakes<3.2.0,>=3.1.0 (from flake8)\n",
            "  Downloading pyflakes-3.1.0-py2.py3-none-any.whl (62 kB)\n",
            "\u001b[2K     \u001b[90m━━━━━━━━━━━━━━━━━━━━━━━━━━━━━━━━━━━━━━━━\u001b[0m \u001b[32m62.6/62.6 kB\u001b[0m \u001b[31m5.6 MB/s\u001b[0m eta \u001b[36m0:00:00\u001b[0m\n",
            "\u001b[?25hInstalling collected packages: pyflakes, mccabe, flake8\n",
            "Successfully installed flake8-6.1.0 mccabe-0.7.0 pyflakes-3.1.0\n"
          ]
        }
      ],
      "source": [
        "!pip install pycodestyle pycodestyle_magic\n",
        "!pip install flake8\n",
        "%load_ext pycodestyle_magic"
      ]
    },
    {
      "cell_type": "markdown",
      "metadata": {
        "id": "9dJzl1mmoAIQ"
      },
      "source": [
        "And now, for any code box that you want to check against style rules, begin the box with: %%pycodestyle"
      ]
    },
    {
      "cell_type": "code",
      "execution_count": 11,
      "metadata": {
        "id": "g6T-eWzqoAIQ"
      },
      "outputs": [],
      "source": [
        "%%pycodestyle\n",
        "\n",
        "a=2+2"
      ]
    },
    {
      "cell_type": "markdown",
      "metadata": {
        "id": "0JmDyf4poAIQ"
      },
      "source": [
        "Try playing with the code box until the first lint error, about missing whitespace, goes away.  You can ignore the error about the blank line at the end of the file; that's just an artifact of using a code box.  Notice that the box doesn't actually run unless you remove the pycodestyle line."
      ]
    },
    {
      "cell_type": "markdown",
      "metadata": {
        "id": "zJsr9X8KoAIQ"
      },
      "source": [
        "Here's a box with more style problems.  Try fixing them all, besides the blank line issue.  (Notice that some things that seem like bad style, like importing things you don't use, actually aren't detected; and some things you might have thought were syntax errors, like weird indentation, are just style issues.)"
      ]
    },
    {
      "cell_type": "code",
      "execution_count": 12,
      "metadata": {
        "id": "dOIYausZoAIQ",
        "colab": {
          "base_uri": "https://localhost:8080/"
        },
        "outputId": "f891e564-3a42-4e75-c05c-e5796258ff0b"
      },
      "outputs": [
        {
          "output_type": "stream",
          "name": "stderr",
          "text": [
            "INFO:pycodestyle:4:2: E111 indentation is not a multiple of 4\n",
            "INFO:pycodestyle:4:14: E401 multiple imports on one line\n",
            "INFO:pycodestyle:5:2: E111 indentation is not a multiple of 4\n",
            "INFO:pycodestyle:6:1: W391 blank line at end of file\n"
          ]
        }
      ],
      "source": [
        "%%pycodestyle\n",
        "\n",
        "for i in range(5):\n",
        " import numpy, math\n",
        " print(\"Happy birthday!\")"
      ]
    },
    {
      "cell_type": "markdown",
      "metadata": {
        "id": "m_wFgCnfoAIQ"
      },
      "source": [
        "Try linting your answers to the problems earlier in this notebook, and show your style-compliant answers to the TA to finish this section.  (After linting, comment out %%pycodestyle so that the TA can see the real output.)\n",
        "\n",
        "You don't *have* to obey style rules, but you should be aware of how your habits differ from convention.  You might have to unlearn some habits if a future employer always runs a linter on your code (Google does)."
      ]
    },
    {
      "cell_type": "code",
      "execution_count": null,
      "metadata": {
        "id": "O5C2N15CoAIQ"
      },
      "outputs": [],
      "source": []
    }
  ],
  "metadata": {
    "colab": {
      "provenance": [],
      "include_colab_link": true
    },
    "kernelspec": {
      "display_name": "Python 3",
      "language": "python",
      "name": "python3"
    },
    "language_info": {
      "codemirror_mode": {
        "name": "ipython",
        "version": 3
      },
      "file_extension": ".py",
      "mimetype": "text/x-python",
      "name": "python",
      "nbconvert_exporter": "python",
      "pygments_lexer": "ipython3",
      "version": "3.8.8"
    }
  },
  "nbformat": 4,
  "nbformat_minor": 0
}